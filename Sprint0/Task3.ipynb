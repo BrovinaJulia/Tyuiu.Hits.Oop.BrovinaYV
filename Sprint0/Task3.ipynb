{
 "cells": [
  {
   "cell_type": "markdown",
   "metadata": {},
   "source": [
    "<h1 style=\"color:DodgerBlue\">Индивидуальный проект</h1>"
   ]
  },
  {
   "cell_type": "markdown",
   "metadata": {},
   "source": [
    "<h2 style=\"color:DodgerBlue\">Название проекта:</h2>\n",
    "\n",
    "----\n",
    "\n",
    "### Вариант задания №1\n"
   ]
  },
  {
   "cell_type": "markdown",
   "metadata": {},
   "source": [
    "<h2 style=\"color:DodgerBlue\">Описание проекта:</h2>\n",
    "\n",
    "----\n",
    "\n",
    "Создать базовый класс Person в C#, который будет представлять информацию о\n",
    "человеке. На основе этого класса разработать 2-3 производных класса,\n",
    "демонстрирующих принципы наследования и полиморфизма. В каждом из классов\n",
    "должны быть реализованы новые атрибуты и методы, а также переопределены\n",
    "некоторые методы базового класса для демонстрации полиморфизма.\n",
    "\n",
    "Требования к базовому классу Person:\n",
    "• Атрибуты: Имя (Name), Возраст (Age), Пол (Gender).\n",
    "• Методы:\n",
    "o GetInfo(): метод для получения информации о человеке в виде строки.\n",
    "o SayHello(): метод для вывода приветствия от человека.\n",
    "\n",
    "Требования к производным классам:\n",
    "1. Студент (Student): Должен содержать дополнительные атрибуты, такие как\n",
    "Университет (University) и Курс (Course). Метод SayHello() должен быть\n",
    "переопределен для добавления информации о курсе при приветствии.\n",
    "2. Работник (Employee): Должен содержать дополнительные атрибуты, такие\n",
    "как Компания (Company) и Зарплата (Salary). Метод GetInfo() должен быть\n",
    "переопределен для включения информации о компании и зарплате.\n",
    "3. Преподаватель (Teacher) (если требуется третий класс): Должен содержать\n",
    "дополнительные атрибуты, такие как Предмет (Subject) и Стаж работы\n",
    "(Experience). Метод SayHello() должен быть переопределен для добавления\n",
    "информации о преподаваемом предмете при приветствии.\n"
   ]
  },
  {
   "cell_type": "markdown",
   "metadata": {},
   "source": [
    "<h2 style=\"color:DodgerBlue\">Реализация:</h2>\n",
    "\n",
    "----"
   ]
  },
  {
   "cell_type": "code",
   "execution_count": 2,
   "metadata": {
    "dotnet_interactive": {
     "language": "csharp"
    },
    "polyglot_notebook": {
     "kernelName": "csharp"
    }
   },
   "outputs": [
    {
     "name": "stdout",
     "output_type": "stream",
     "text": [
      "Привет! Меня зовут Григорий. Мой возраст 44. Мой пол мужской\n",
      "Привет! Меня зовут Евгения. Мой возраст 23. Мой пол Женский. Я учусь в \"ТИУ\" на 2 курсе .\n",
      "Привет! Меня зовут Денис. Мой возраст 43. Я работаю в \"Строительный двор\", моя зарплата составляет 23050.48 рубля(ей).\n"
     ]
    }
   ],
   "source": [
    "public class Person\n",
    "{\n",
    "    public string Name { get; set; }\n",
    "    public int Age { get; set; }\n",
    "    private string _gender;\n",
    "    public string Gender\n",
    "    {\n",
    "        get { return _gender; }\n",
    "        set\n",
    "        {\n",
    "            if (value == \"Женский\"||value == \"женский\" || value == \"Мужской\" ||value == \"мужской\")\n",
    "            {\n",
    "                _gender = value;\n",
    "            }\n",
    "            else\n",
    "            {\n",
    "                Console.WriteLine(\"Ошибка. Впишите в поле 'Пол' значение Мужской или Женский.\");\n",
    "            }\n",
    "        }\n",
    "    }\n",
    "\n",
    "    public Person(string name, int age, string gender)\n",
    "    {\n",
    "        Name = name;\n",
    "        Age = age;\n",
    "        Gender = gender; // используется паблик переменная, а не приват\n",
    "    }\n",
    "\n",
    "    public virtual string GetInfo()\n",
    "    {\n",
    "        return($\"{Name},{Age},{Gender}.\");\n",
    "    }\n",
    "      public virtual void SayHello()\n",
    "    {\n",
    "        Console.WriteLine($\"Привет! Меня зовут {Name}. Мой возраст {Age}. Мой пол {Gender}\");\n",
    "    }\n",
    "}\n",
    "\n",
    "class Student : Person\n",
    " { \n",
    "    public string University{get;set;}\n",
    "    private int _course;\n",
    "    public int Course {\n",
    "            get { return _course; }\n",
    "            set{\n",
    "                if ((value>0)&&(value<8)){\n",
    "                    _course = value;\n",
    "                }\n",
    "                else {Console.WriteLine(\"Ошибка. Проверьте цифру курса\");}\n",
    "            }\n",
    "    }\n",
    "   \n",
    "    public Student(string name, int age, string gender, string university, int course): base(name, age, gender)\n",
    "    {\n",
    "        \n",
    "        University=university;\n",
    "        Course=course;\n",
    "    }\n",
    "\n",
    "     public override string GetInfo()\n",
    "    {\n",
    "        //base.GetInfo(); - вызов базового метода, но так как не нужно, чтоб информация из первого гетинфо выводилась, то убираем\n",
    "        return($\"{Name},{Age},{Gender}, {University}, {Course}\");\n",
    "    }\n",
    "     public new void SayHello()\n",
    "    {\n",
    "        Console.WriteLine($\"Привет! Меня зовут {Name}. Мой возраст {Age}. Мой пол {Gender}. Я учусь в \\\"{University}\\\" на {Course} курсе .\");\n",
    "    }\n",
    "}\n",
    "class Employee: Person{\n",
    " public string Company{get;set;}\n",
    "    public double Salary {get;set;}\n",
    "    public Employee(string name, int age, string gender, string company, double salary): base(name, age, gender)\n",
    "    {\n",
    "        Company=company;\n",
    "        Salary=salary;\n",
    "    }\n",
    "\n",
    "     public override string GetInfo()\n",
    "    {\n",
    "        \n",
    "        return($\"{Name},{Age}, {Gender},{Company},{Salary}.\");\n",
    "    }\n",
    "    public new void SayHello()\n",
    "    {\n",
    "        Console.WriteLine($\"Привет! Меня зовут {Name}. Мой возраст {Age}. Я работаю в \\\"{Company}\\\", моя зарплата составляет {Salary} рубля(ей).\");\n",
    "    }\n",
    "\n",
    "}\n",
    "Person fly = new Person (\"Григорий\", 44, \"мужской\");\n",
    "fly.SayHello();\n",
    "Student cat = new Student (\"Евгения\", 23, \"Женский\", \"ТИУ\", 2);\n",
    "cat.SayHello();\n",
    "Employee dog = new Employee (\"Денис\", 43, \"Мужской\", \"Строительный двор\", 23050.48);\n",
    "dog.SayHello();"
   ]
  }
 ],
 "metadata": {
  "kernelspec": {
   "display_name": ".NET (C#)",
   "language": "C#",
   "name": ".net-csharp"
  },
  "polyglot_notebook": {
   "kernelInfo": {
    "defaultKernelName": "csharp",
    "items": [
     {
      "aliases": [],
      "languageName": "csharp",
      "name": "csharp"
     }
    ]
   }
  }
 },
 "nbformat": 4,
 "nbformat_minor": 2
}
